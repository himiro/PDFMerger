{
 "cells": [
  {
   "cell_type": "code",
   "execution_count": 217,
   "metadata": {
    "_cell_guid": "b1076dfc-b9ad-4769-8c92-a6c4dae69d19",
    "_uuid": "8f2839f25d086af736a60e9eeb907d3b93b6e0e5",
    "execution": {
     "iopub.execute_input": "2023-05-01T11:53:11.433138Z",
     "iopub.status.busy": "2023-05-01T11:53:11.432708Z",
     "iopub.status.idle": "2023-05-01T11:53:11.440200Z",
     "shell.execute_reply": "2023-05-01T11:53:11.438683Z",
     "shell.execute_reply.started": "2023-05-01T11:53:11.433102Z"
    }
   },
   "outputs": [],
   "source": [
    "import pandas as pd # data processing, CSV file I/O (e.g. pd.read_csv)\n",
    "import random\n",
    "import math\n",
    "import cv2\n",
    "import numpy as np\n",
    "import os\n",
    "\n",
    "from dotenv import load_dotenv\n",
    "from PIL import Image\n",
    "from datetime import datetime\n",
    "import matplotlib.pyplot as plt"
   ]
  },
  {
   "cell_type": "code",
   "execution_count": 218,
   "metadata": {},
   "outputs": [
    {
     "data": {
      "text/plain": [
       "True"
      ]
     },
     "execution_count": 218,
     "metadata": {},
     "output_type": "execute_result"
    }
   ],
   "source": [
    "load_dotenv()"
   ]
  },
  {
   "cell_type": "code",
   "execution_count": 219,
   "metadata": {
    "execution": {
     "iopub.execute_input": "2023-05-01T11:53:12.547099Z",
     "iopub.status.busy": "2023-05-01T11:53:12.546695Z",
     "iopub.status.idle": "2023-05-01T11:53:12.552773Z",
     "shell.execute_reply": "2023-05-01T11:53:12.551038Z",
     "shell.execute_reply.started": "2023-05-01T11:53:12.547060Z"
    }
   },
   "outputs": [],
   "source": [
    "# Define seed to have the same images rotation through the dataset creation"
   ]
  },
  {
   "cell_type": "code",
   "execution_count": 220,
   "metadata": {
    "execution": {
     "iopub.execute_input": "2023-05-01T11:53:12.555235Z",
     "iopub.status.busy": "2023-05-01T11:53:12.554763Z",
     "iopub.status.idle": "2023-05-01T11:53:12.564883Z",
     "shell.execute_reply": "2023-05-01T11:53:12.563950Z",
     "shell.execute_reply.started": "2023-05-01T11:53:12.555187Z"
    }
   },
   "outputs": [],
   "source": [
    "random.seed(42)\n",
    "images_folder = os.environ.get('IMAGES_FOLDER')\n",
    "saving_folder_images = os.environ.get('SAVING_FOLDER_IMAGES')\n",
    "annotation_folder = os.environ.get('ANNOTATION_FOLDER')\n",
    "annotation_file = os.environ.get('ANNOTATION_FILE')"
   ]
  },
  {
   "cell_type": "code",
   "execution_count": 221,
   "metadata": {},
   "outputs": [],
   "source": [
    "def largest_rotated_rect(w, h, angle):\n",
    "    \"\"\"\n",
    "    Given a rectangle of size wxh that has been rotated by 'angle' (in\n",
    "    radians), computes the width and height of the largest possible\n",
    "    axis-aligned rectangle within the rotated rectangle.\n",
    "\n",
    "    Original JS code by 'Andri' and Magnus Hoff from Stack Overflow\n",
    "\n",
    "    Converted to Python by Aaron Snoswell\n",
    "    \"\"\"\n",
    "\n",
    "    quadrant = int(math.floor(angle / (math.pi / 2))) & 3\n",
    "    sign_alpha = angle if ((quadrant & 1) == 0) else math.pi - angle\n",
    "    alpha = (sign_alpha % math.pi + math.pi) % math.pi\n",
    "\n",
    "    bb_w = w * math.cos(alpha) + h * math.sin(alpha)\n",
    "    bb_h = w * math.sin(alpha) + h * math.cos(alpha)\n",
    "\n",
    "    gamma = math.atan2(bb_w, bb_w) if (w < h) else math.atan2(bb_w, bb_w)\n",
    "\n",
    "    delta = math.pi - alpha - gamma\n",
    "\n",
    "    length = h if (w < h) else w\n",
    "\n",
    "    d = length * math.cos(alpha)\n",
    "    a = d * math.sin(alpha) / math.sin(delta)\n",
    "\n",
    "    y = a * math.cos(gamma)\n",
    "    x = y * math.tan(gamma)\n",
    "\n",
    "    return (\n",
    "        bb_w - 2 * x,\n",
    "        bb_h - 2 * y\n",
    "    )\n",
    "\n",
    "\n",
    "def crop_around_center(image, width, height):\n",
    "    \"\"\"\n",
    "    Given a NumPy / OpenCV 2 image, crops it to the given width and height,\n",
    "    around it's centre point\n",
    "    \"\"\"\n",
    "\n",
    "    image_size = (image.shape[1], image.shape[0])\n",
    "    image_center = (int(image_size[0] * 0.5), int(image_size[1] * 0.5))\n",
    "\n",
    "    if(width > image_size[0]):\n",
    "        width = image_size[0]\n",
    "\n",
    "    if(height > image_size[1]):\n",
    "        height = image_size[1]\n",
    "\n",
    "    x1 = int(image_center[0] - width * 0.5)\n",
    "    x2 = int(image_center[0] + width * 0.5)\n",
    "    y1 = int(image_center[1] - height * 0.5)\n",
    "    y2 = int(image_center[1] + height * 0.5)\n",
    "\n",
    "    return image[y1:y2, x1:x2]"
   ]
  },
  {
   "cell_type": "code",
   "execution_count": 222,
   "metadata": {},
   "outputs": [],
   "source": [
    "df = pd.read_csv(annotation_file)\n",
    "df = df[df.degrees.notna()]"
   ]
  },
  {
   "cell_type": "code",
   "execution_count": 223,
   "metadata": {
    "execution": {
     "iopub.execute_input": "2023-05-01T11:53:12.582657Z",
     "iopub.status.busy": "2023-05-01T11:53:12.582312Z",
     "iopub.status.idle": "2023-05-01T11:58:12.087432Z",
     "shell.execute_reply": "2023-05-01T11:58:12.085731Z",
     "shell.execute_reply.started": "2023-05-01T11:53:12.582620Z"
    }
   },
   "outputs": [
    {
     "name": "stdout",
     "output_type": "stream",
     "text": [
      "imageId    95\n",
      "degrees    95\n",
      "dtype: int64 images rotated\n"
     ]
    }
   ],
   "source": [
    "for imageId in df.imageId:\n",
    "    filename = imageId + '.jpg'\n",
    "    original_image = Image.open(dirname+'/'+filename)\n",
    "    image_height, image_width = original_image.height, original_image.width\n",
    "    original_rotation = df.loc[df.imageId == imageId, 'degrees'].item()\n",
    "    angle = float(random.randrange(0, 36000)/100)\n",
    "    angle = (angle + original_rotation) % 360\n",
    "    df.loc[df.imageId == imageId, 'degrees'] = angle\n",
    "    degreesToRadians = angle*(math.pi/180)\n",
    "\n",
    "    # Clockwise rotation\n",
    "    im = original_image.rotate(-angle)\n",
    "    image_rotated = np.array(im)\n",
    "    numpy_image_rotated_cropped = crop_around_center(\n",
    "        image_rotated,\n",
    "        *largest_rotated_rect(\n",
    "            image_width,\n",
    "            image_height,\n",
    "            degreesToRadians\n",
    "        )\n",
    "    )\n",
    "    image_rotated_cropped = Image.fromarray(numpy_image_rotated_cropped)\n",
    "    image_rotated_cropped.save(saving_folder_images+'/'+filename)\n",
    "print(str(df.count()) + ' images rotated')"
   ]
  },
  {
   "cell_type": "code",
   "execution_count": 224,
   "metadata": {
    "execution": {
     "iopub.status.busy": "2023-05-01T11:58:12.088570Z",
     "iopub.status.idle": "2023-05-01T11:58:12.089011Z",
     "shell.execute_reply": "2023-05-01T11:58:12.088825Z",
     "shell.execute_reply.started": "2023-05-01T11:58:12.088801Z"
    }
   },
   "outputs": [],
   "source": [
    "now = datetime.now()\n",
    "now_date = str(now.year)+'_'+str(now.month)+'_'+str(now.day)+'-'+str(now.hour)+'_'+str(now.minute)+'_'+str(now.second)\n",
    "df.to_csv(annotation_folder+\"/rotated-images-\"+now_date+\".csv\", index=False)"
   ]
  },
  {
   "cell_type": "code",
   "execution_count": 225,
   "metadata": {},
   "outputs": [
    {
     "data": {
      "text/html": [
       "<div>\n",
       "<style scoped>\n",
       "    .dataframe tbody tr th:only-of-type {\n",
       "        vertical-align: middle;\n",
       "    }\n",
       "\n",
       "    .dataframe tbody tr th {\n",
       "        vertical-align: top;\n",
       "    }\n",
       "\n",
       "    .dataframe thead th {\n",
       "        text-align: right;\n",
       "    }\n",
       "</style>\n",
       "<table border=\"1\" class=\"dataframe\">\n",
       "  <thead>\n",
       "    <tr style=\"text-align: right;\">\n",
       "      <th></th>\n",
       "      <th>imageId</th>\n",
       "      <th>degrees</th>\n",
       "    </tr>\n",
       "  </thead>\n",
       "  <tbody>\n",
       "    <tr>\n",
       "      <th>0</th>\n",
       "      <td>2007_000027</td>\n",
       "      <td>114.82</td>\n",
       "    </tr>\n",
       "    <tr>\n",
       "      <th>1</th>\n",
       "      <td>2007_000032</td>\n",
       "      <td>16.99</td>\n",
       "    </tr>\n",
       "    <tr>\n",
       "      <th>2</th>\n",
       "      <td>2007_000033</td>\n",
       "      <td>180.24</td>\n",
       "    </tr>\n",
       "    <tr>\n",
       "      <th>3</th>\n",
       "      <td>2007_000039</td>\n",
       "      <td>161.94</td>\n",
       "    </tr>\n",
       "    <tr>\n",
       "      <th>4</th>\n",
       "      <td>2007_000042</td>\n",
       "      <td>147.19</td>\n",
       "    </tr>\n",
       "    <tr>\n",
       "      <th>...</th>\n",
       "      <td>...</td>\n",
       "      <td>...</td>\n",
       "    </tr>\n",
       "    <tr>\n",
       "      <th>102</th>\n",
       "      <td>2007_001594</td>\n",
       "      <td>350.30</td>\n",
       "    </tr>\n",
       "    <tr>\n",
       "      <th>103</th>\n",
       "      <td>2007_001595</td>\n",
       "      <td>173.03</td>\n",
       "    </tr>\n",
       "    <tr>\n",
       "      <th>104</th>\n",
       "      <td>2007_001602</td>\n",
       "      <td>277.84</td>\n",
       "    </tr>\n",
       "    <tr>\n",
       "      <th>106</th>\n",
       "      <td>2007_001627</td>\n",
       "      <td>264.93</td>\n",
       "    </tr>\n",
       "    <tr>\n",
       "      <th>108</th>\n",
       "      <td>2007_001667</td>\n",
       "      <td>238.66</td>\n",
       "    </tr>\n",
       "  </tbody>\n",
       "</table>\n",
       "<p>95 rows × 2 columns</p>\n",
       "</div>"
      ],
      "text/plain": [
       "         imageId  degrees\n",
       "0    2007_000027   114.82\n",
       "1    2007_000032    16.99\n",
       "2    2007_000033   180.24\n",
       "3    2007_000039   161.94\n",
       "4    2007_000042   147.19\n",
       "..           ...      ...\n",
       "102  2007_001594   350.30\n",
       "103  2007_001595   173.03\n",
       "104  2007_001602   277.84\n",
       "106  2007_001627   264.93\n",
       "108  2007_001667   238.66\n",
       "\n",
       "[95 rows x 2 columns]"
      ]
     },
     "execution_count": 225,
     "metadata": {},
     "output_type": "execute_result"
    }
   ],
   "source": [
    "df.head(108)"
   ]
  },
  {
   "cell_type": "code",
   "execution_count": 226,
   "metadata": {},
   "outputs": [
    {
     "data": {
      "text/html": [
       "<div>\n",
       "<style scoped>\n",
       "    .dataframe tbody tr th:only-of-type {\n",
       "        vertical-align: middle;\n",
       "    }\n",
       "\n",
       "    .dataframe tbody tr th {\n",
       "        vertical-align: top;\n",
       "    }\n",
       "\n",
       "    .dataframe thead th {\n",
       "        text-align: right;\n",
       "    }\n",
       "</style>\n",
       "<table border=\"1\" class=\"dataframe\">\n",
       "  <thead>\n",
       "    <tr style=\"text-align: right;\">\n",
       "      <th></th>\n",
       "      <th>degrees</th>\n",
       "    </tr>\n",
       "  </thead>\n",
       "  <tbody>\n",
       "    <tr>\n",
       "      <th>count</th>\n",
       "      <td>95.000000</td>\n",
       "    </tr>\n",
       "    <tr>\n",
       "      <th>mean</th>\n",
       "      <td>169.070842</td>\n",
       "    </tr>\n",
       "    <tr>\n",
       "      <th>std</th>\n",
       "      <td>95.250396</td>\n",
       "    </tr>\n",
       "    <tr>\n",
       "      <th>min</th>\n",
       "      <td>14.850000</td>\n",
       "    </tr>\n",
       "    <tr>\n",
       "      <th>25%</th>\n",
       "      <td>91.630000</td>\n",
       "    </tr>\n",
       "    <tr>\n",
       "      <th>50%</th>\n",
       "      <td>164.410000</td>\n",
       "    </tr>\n",
       "    <tr>\n",
       "      <th>75%</th>\n",
       "      <td>240.100000</td>\n",
       "    </tr>\n",
       "    <tr>\n",
       "      <th>max</th>\n",
       "      <td>356.050000</td>\n",
       "    </tr>\n",
       "  </tbody>\n",
       "</table>\n",
       "</div>"
      ],
      "text/plain": [
       "          degrees\n",
       "count   95.000000\n",
       "mean   169.070842\n",
       "std     95.250396\n",
       "min     14.850000\n",
       "25%     91.630000\n",
       "50%    164.410000\n",
       "75%    240.100000\n",
       "max    356.050000"
      ]
     },
     "execution_count": 226,
     "metadata": {},
     "output_type": "execute_result"
    }
   ],
   "source": [
    "df.describe()"
   ]
  }
 ],
 "metadata": {
  "kernelspec": {
   "display_name": "Python 3",
   "language": "python",
   "name": "python3"
  },
  "language_info": {
   "codemirror_mode": {
    "name": "ipython",
    "version": 3
   },
   "file_extension": ".py",
   "mimetype": "text/x-python",
   "name": "python",
   "nbconvert_exporter": "python",
   "pygments_lexer": "ipython3",
   "version": "3.8.10"
  }
 },
 "nbformat": 4,
 "nbformat_minor": 4
}
